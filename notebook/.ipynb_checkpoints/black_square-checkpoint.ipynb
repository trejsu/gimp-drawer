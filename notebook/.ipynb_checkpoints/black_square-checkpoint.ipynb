{
 "cells": [
  {
   "cell_type": "code",
   "execution_count": 68,
   "metadata": {},
   "outputs": [],
   "source": [
    "import numpy as np\n",
    "import pandas as pd\n",
    "%matplotlib inline\n",
    "import matplotlib.pylab as plt\n",
    "from scipy import misc\n",
    "import math"
   ]
  },
  {
   "cell_type": "code",
   "execution_count": 63,
   "metadata": {},
   "outputs": [],
   "source": [
    "PATH = \"../dataset/square/\"\n",
    "NAME = \"train\"\n",
    "\n",
    "X = np.load(PATH + \"%s_X.npy\" % (NAME), mmap_mode=\"r\")\n",
    "Y_1 = np.load(PATH + \"%s_Y_1.npy\" % (NAME), mmap_mode=\"r\")\n",
    "Y_2 = np.load(PATH + \"%s_Y_2.npy\" % (NAME), mmap_mode=\"r\")\n",
    "Y_4 = np.load(PATH + \"%s_Y_4.npy\" % (NAME), mmap_mode=\"r\")\n",
    "Y_9 = np.load(PATH + \"%s_Y_9.npy\" % (NAME), mmap_mode=\"r\")\n",
    "Y_25 = np.load(PATH + \"%s_Y_25.npy\" % (NAME), mmap_mode=\"r\")"
   ]
  },
  {
   "cell_type": "code",
   "execution_count": 64,
   "metadata": {},
   "outputs": [],
   "source": [
    "INDEX = np.random.randint(0, X.shape[0])"
   ]
  },
  {
   "cell_type": "code",
   "execution_count": 65,
   "metadata": {},
   "outputs": [
    {
     "data": {
      "text/plain": [
       "<matplotlib.image.AxesImage at 0x7fc804ea9b90>"
      ]
     },
     "execution_count": 65,
     "metadata": {},
     "output_type": "execute_result"
    },
    {
     "data": {
      "image/png": "[encoded data removed]",
      "text/plain": [
       "<matplotlib.figure.Figure at 0x7fc804f47bd0>"
      ]
     },
     "metadata": {},
     "output_type": "display_data"
    }
   ],
   "source": [
    "image = X[INDEX,:]\n",
    "plt.imshow(image, cmap=\"gray\")"
   ]
  },
  {
   "cell_type": "code",
   "execution_count": 66,
   "metadata": {
    "scrolled": true
   },
   "outputs": [
    {
     "name": "stdout",
     "output_type": "stream",
     "text": [
      "[ 0.7  0.4]\n",
      "[1]\n",
      "[1]\n",
      "[5]\n",
      "[13]\n"
     ]
    }
   ],
   "source": [
    "print Y_1[INDEX]\n",
    "print Y_2[INDEX]\n",
    "print Y_4[INDEX]\n",
    "print Y_9[INDEX]\n",
    "print Y_25[INDEX]"
   ]
  },
  {
   "cell_type": "markdown",
   "metadata": {},
   "source": [
    "## Klasyfikacja na 2 części\n",
    "<img src=\"../out/model/leraning_curves/black_square2_parts_learning_curve.png\" alt=\"1 epoka\" style=\"width: 500px;\"/>\n",
    "1 epoka - test accuracy: ~98,73%\n",
    "<img src=\"../out/model/leraning_curves/2_parts_learning_curve.png\" alt=\"2 epoki\" style=\"width: 500px;\"/>\n",
    "2 epoki - test accuracy: ~96.46%\n",
    "## Klasyfikacja na 4 części\n",
    "<img src=\"../out/model/leraning_curves/4_parts_1_epoch.png\" alt=\"1 epoka\" style=\"width: 500px;\"/>\n",
    "1 epoka - test accuracy: ~98%\n",
    "## Klasyfikacja na 9 części\n",
    "<img src=\"../out/model/leraning_curves/9_parts_1_epoch.png\" alt=\"1 epoka\" style=\"width: 500px;\"/>\n",
    "1 epoka - test accuracy: ~93.13%\n",
    "## Klasyfikacja na 25 części\n",
    "<img src=\"../out/model/leraning_curves/25_parts_1_epoch.png\" alt=\"1 epoka\" style=\"width: 500px;\"/>\n",
    "1 epoka - test accuracy: ~87.33%\n",
    "<img src=\"../out/model/leraning_curves/25_parts_2_epoch.png\" alt=\"2 epoki\" style=\"width: 500px;\"/>\n",
    "2 epoki - test accuracy: ~78%\n",
    "## Regresja\n",
    "<img src=\"../out/model/leraning_curves/regression_1_epoch.png\" alt=\"1 epoka\" style=\"width: 500px;\"/>\n",
    "1 epoka - test mse: ~1.02"
   ]
  },
  {
   "cell_type": "code",
   "execution_count": 69,
   "metadata": {},
   "outputs": [
    {
     "data": {
      "text/plain": [
       "1.0099504938362078"
      ]
     },
     "execution_count": 69,
     "metadata": {},
     "output_type": "execute_result"
    }
   ],
   "source": [
    "math.sqrt(1.02)"
   ]
  },
  {
   "cell_type": "markdown",
   "metadata": {},
   "source": [
    "Czyli współrzędne, które mają wartości w przedziale [0,1] sieć oblicza z błędem ~1.009... \n",
    "\n",
    "<img src=\"../out/model/leraning_curves/regression_with_sigmoid_on_fc2_1_epoch.png\" alt=\"1 epoka\" style=\"width: 500px;\"/>\n",
    "1 epoka - test mse: ~0.30 (błąd ~0.54)\n",
    "\n",
    "<img src=\"../out/model/leraning_curves/regression_mse_with_sigmoid_1_epoch.png\" alt=\"1 epoka\" style=\"width: 500px;\"/>\n",
    "1 epoka - test mse: ~0.30\n",
    "<img src=\"../out/model/leraning_curves/regression_mse_with_sigmoid_2_epoch.png\" alt=\"2 epoki\" style=\"width: 500px;\"/>\n",
    "2 epoki - test mse: ~0.097 (błąd ~0.31)\n"
   ]
  },
  {
   "cell_type": "code",
   "execution_count": null,
   "metadata": {},
   "outputs": [],
   "source": []
  }
 ],
 "metadata": {
  "kernelspec": {
   "display_name": "Python 2",
   "language": "python",
   "name": "python2"
  },
  "language_info": {
   "codemirror_mode": {
    "name": "ipython",
    "version": 2
   },
   "file_extension": ".py",
   "mimetype": "text/x-python",
   "name": "python",
   "nbconvert_exporter": "python",
   "pygments_lexer": "ipython2",
   "version": "2.7.14"
  }
 },
 "nbformat": 4,
 "nbformat_minor": 2
}
