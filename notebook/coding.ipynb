{
 "cells": [
  {
   "cell_type": "markdown",
   "metadata": {},
   "source": [
    "# Sieci konwolucyjne"
   ]
  },
  {
   "cell_type": "code",
   "execution_count": 4,
   "metadata": {},
   "outputs": [
    {
     "name": "stderr",
     "output_type": "stream",
     "text": [
      "Using TensorFlow backend.\n"
     ]
    }
   ],
   "source": [
    "from keras.models import load_model\n",
    "import numpy as np\n",
    "%matplotlib inline\n",
    "import matplotlib.pylab as plt\n",
    "from scipy import misc\n",
    "import math\n",
    "from tqdm import tqdm\n",
    "from src.gimp.draw.draw_triangle import draw_triangle as _draw_triangle\n",
    "from src.gimp.draw.draw_line import draw_line as _draw_line\n",
    "import os\n",
    "import time\n",
    "\n",
    "PREDICTOR = 'model.49-0.87'\n",
    "RECTANGLE = 'model.11-0.02'\n",
    "ELLIPSE = 'model.17-0.03'\n",
    "LINE = 'model.08-0.03'\n",
    "TRIANGLE = 'model.05-0.04'\n",
    "\n",
    "class Encoder(object):\n",
    "    def __init__(self):\n",
    "        self.shape_predictor = load_model('../result/model/shape_small/{}.hdf5'.format(PREDICTOR))\n",
    "        self.representation_predictors = [\n",
    "            load_model('../result/model/rectangle_small/{}.hdf5'.format(RECTANGLE)),\n",
    "            load_model('../result/model/ellipse_small/{}.hdf5'.format(ELLIPSE)),\n",
    "            load_model('../result/model/line_small/{}.hdf5'.format(LINE)),\n",
    "            load_model('../result/model/triangle_small/{}.hdf5'.format(TRIANGLE))\n",
    "        ]\n",
    "    \n",
    "    def encode(self, img):\n",
    "        start = time.time()\n",
    "        action = np.argmax(self.shape_predictor.predict(img.reshape([1, 28, 28, 3]))[0])\n",
    "        args = self.representation_predictors[action].predict(img.reshape([1, 28, 28, 3]))[0]\n",
    "        end = time.time()\n",
    "        print('compressed in {} sec'.format(end - start))\n",
    "        return action, args\n",
    "    \n",
    "    \n",
    "class Decoder(object):\n",
    "    def __init__(self):\n",
    "        pass\n",
    "    \n",
    "    def decode(self, encoded, size=100):\n",
    "        start = time.time()\n",
    "        action, args = encoded\n",
    "        if action == 0:\n",
    "            self.draw_ellipse(args, size)\n",
    "        elif action == 1:\n",
    "            self.draw_rectangle(args, size)\n",
    "        elif action == 2:\n",
    "            self.draw_line(args, size)\n",
    "        else:\n",
    "            self.draw_triangle(args, size)\n",
    "        end = time.time()\n",
    "        print('decompressed in {} sec'.format(end - start))\n",
    "            \n",
    "    def draw(self, y_, shape, size):\n",
    "        path_to_image_results = '../result/gimp_images/nn/shapes'\n",
    "        name = 'jupyter_test.png'\n",
    "        os.system('python ../src/gimp/draw/draw_selection_shape.py --name {} --shape {} --size {} --r {} --g {} --b {} --a {} --x {} --y {} --w {} --h {} --rotation {}'\\\n",
    "                  .format(name, shape, size, y_[0], y_[1], y_[2], y_[3], y_[4], y_[5], y_[6], y_[7], y_[8]))\n",
    "        image_data = plt.imread('%s/%s' % (path_to_image_results, name))[:,:,:3]\n",
    "        plt.imshow(image_data)\n",
    "\n",
    "    def draw_rectangle(self, y, size):\n",
    "        self.draw(y, 'rectangle', size)\n",
    "\n",
    "    def draw_ellipse(self, y, size):\n",
    "        self.draw(y, 'ellipse', size)\n",
    "\n",
    "    def draw_triangle(self, y, size):\n",
    "        path_to_image_results = '../result/gimp_images/nn/shapes'\n",
    "        name = 'jupyter_test.png'\n",
    "        _draw_triangle(name, size, y[0], y[1], y[2], y[3], y[4], y[5], y[6], y[7], y[8], y[9])\n",
    "        image_data = plt.imread('%s/%s' % (path_to_image_results, name))[:,:,:3]\n",
    "        plt.imshow(image_data)\n",
    "\n",
    "    def draw_line(self, y, size):\n",
    "        path_to_image_results = '../result/gimp_images/nn/shapes'\n",
    "        name = 'jupyter_test.png'\n",
    "        _draw_line(name, size, y[0], y[1], y[2], y[3], y[4], y[5], y[6], y[7], y[8])\n",
    "        image_data = plt.imread('%s/%s' % (path_to_image_results, name))[:,:,:3]\n",
    "        plt.imshow(image_data)\n",
    "            \n",
    "    \n",
    "    \n",
    "def load_data(name):\n",
    "    path = \"../data/dataset/shape_small/\"\n",
    "    X = np.load(path + \"%s_X.npy\" % name, mmap_mode=\"r\")\n",
    "    Y = np.load(path + \"%s_Y.npy\" % name, mmap_mode=\"r\")\n",
    "    return X, Y\n",
    "\n",
    "def show_source(i):\n",
    "    plt.imshow(np.ones(X[i].shape) + X[i])"
   ]
  },
  {
   "cell_type": "code",
   "execution_count": 129,
   "metadata": {},
   "outputs": [],
   "source": [
    "encoder = Encoder()\n",
    "decoder = Decoder()"
   ]
  },
  {
   "cell_type": "code",
   "execution_count": 72,
   "metadata": {
    "collapsed": true
   },
   "outputs": [],
   "source": [
    "X, _ = load_data('test')"
   ]
  },
  {
   "cell_type": "code",
   "execution_count": 139,
   "metadata": {},
   "outputs": [
    {
     "data": {
      "image/png": "[encoded data removed]",
      "text/plain": [
       "<Figure size 432x288 with 1 Axes>"
      ]
     },
     "metadata": {},
     "output_type": "display_data"
    }
   ],
   "source": [
    "index = np.random.randint(0, X.shape[0])\n",
    "show_source(index)"
   ]
  },
  {
   "cell_type": "code",
   "execution_count": 140,
   "metadata": {},
   "outputs": [
    {
     "name": "stdout",
     "output_type": "stream",
     "text": [
      "compressed in 0.9737961292266846 secodns\n",
      "(2, array([0.50772256, 0.29124847, 0.51851577, 0.46048453, 0.18481405,\n",
      "       0.5772818 , 0.21570116, 0.6043281 , 0.53597105], dtype=float32))\n"
     ]
    }
   ],
   "source": [
    "encoded = encoder.encode(X[index])\n",
    "print(encoded)"
   ]
  },
  {
   "cell_type": "code",
   "execution_count": 141,
   "metadata": {},
   "outputs": [
    {
     "name": "stdout",
     "output_type": "stream",
     "text": [
      "decompressed in 2.5924344062805176 secodns\n"
     ]
    },
    {
     "data": {
      "image/png": "[encoded data removed]",
      "text/plain": [
       "<Figure size 432x288 with 1 Axes>"
      ]
     },
     "metadata": {},
     "output_type": "display_data"
    }
   ],
   "source": [
    "decoder.decode(encoded, size=28)"
   ]
  },
  {
   "cell_type": "markdown",
   "metadata": {},
   "source": [
    "**obrazek wejściowy ~ 2352 bitów** (obrazek 28 x 28)   \n",
    "**obrazek zakodowany ~ 41 bitów** (4 bity z numerem akcji + średnio  37 bitów wektora argumentów)   \n",
    "**compression ratio ~ 57,36** (dla jednej akcji) - czyli dla obrazka 28 x 28 ma to sens dla maksymalnie 57 akcji (można poprawić dodatkowo kompresując ciąg wektorów). Im większy obrazek, tym więcej akcji można wykonać, jednak ilość potrzebnych akcji do osiągnięcia podobnej precyzji jest proporcjonalna do wielkości.   \n",
    "**compression speed ~ 2500 b/s** - przetwarzanie przez sieć neuronową   \n",
    "**decompression speed ~ 1000 b/s** - przetwarzanie w gimpie + zapis obrazka na dysk + ponowne wczytanie obrazka   \n",
    "**dekompresja do dowolnego rozmiaru**   "
   ]
  },
  {
   "cell_type": "markdown",
   "metadata": {},
   "source": [
    "# Bez sieci neuronowych"
   ]
  },
  {
   "cell_type": "code",
   "execution_count": 50,
   "metadata": {
    "collapsed": true
   },
   "outputs": [],
   "source": [
    "import random\n",
    "import os\n",
    "\n",
    "\n",
    "ENCODED_PATH = '/tmp/encoded.npy'\n",
    "DECODED_PATH = '/tmp/decoded.png'\n",
    "IMAGES_PATH = '../data/image/scaled_images/'\n",
    "\n",
    "class Encoder(object):\n",
    "    def __init__(self):\n",
    "        pass\n",
    "    \n",
    "    def encode(self, img_path, actions, size, render):\n",
    "        start = time.time()\n",
    "        os.system('python ../src/gimp/draw/generate_actions.py --output_path {} --image {} --actions {} {} --size {}'\n",
    "                  .format(ENCODED_PATH, os.path.join(IMAGES_PATH, img_path), actions+1, '--render' if render else '', size))\n",
    "        action_vectors = np.load(ENCODED_PATH)\n",
    "        end = time.time()\n",
    "        print('compressed in {} sec'.format(end - start))\n",
    "        return action_vectors\n",
    "    \n",
    "    \n",
    "class Decoder(object):\n",
    "    def __init__(self):\n",
    "        pass\n",
    "    \n",
    "    def decode(self, action_args, size=100):\n",
    "        start = time.time()\n",
    "#         np.save(ENCODED_PATH, action_args)\n",
    "        os.system('python ../src/gimp/draw/draw_from_actions.py --action_args {} --size {} --output_path {}'\n",
    "                  .format(ENCODED_PATH, size, DECODED_PATH))\n",
    "        image_data = plt.imread(DECODED_PATH)[:,:,:3]\n",
    "        plt.imshow(image_data)\n",
    "        end = time.time()\n",
    "        print('decompressed in {} sec'.format(end - start))\n",
    "        \n",
    "\n",
    "def random_img():\n",
    "    return random.choice(os.listdir(IMAGES_PATH))\n",
    "\n",
    "def show_img(img_path):\n",
    "    image_data = plt.imread(os.path.join(IMAGES_PATH, img_path))[:,:,:3]\n",
    "    plt.imshow(image_data)\n"
   ]
  },
  {
   "cell_type": "code",
   "execution_count": 51,
   "metadata": {
    "collapsed": true
   },
   "outputs": [],
   "source": [
    "encoder = Encoder()\n",
    "decoder = Decoder()"
   ]
  },
  {
   "cell_type": "code",
   "execution_count": 52,
   "metadata": {},
   "outputs": [
    {
     "data": {
      "image/png": "[encoded data removed]",
      "text/plain": [
       "<Figure size 432x288 with 1 Axes>"
      ]
     },
     "metadata": {},
     "output_type": "display_data"
    }
   ],
   "source": [
    "img_path = random_img()\n",
    "show_img(img_path)"
   ]
  },
  {
   "cell_type": "code",
   "execution_count": 57,
   "metadata": {},
   "outputs": [
    {
     "name": "stdout",
     "output_type": "stream",
     "text": [
      "compressed in 8.501214265823364 sec\n"
     ]
    }
   ],
   "source": [
    "encoded = encoder.encode(img_path, actions=10, size=100, render=True)"
   ]
  },
  {
   "cell_type": "code",
   "execution_count": 58,
   "metadata": {},
   "outputs": [
    {
     "name": "stdout",
     "output_type": "stream",
     "text": [
      "[[2.         0.69239068 0.56305303 0.48828931 1.         0.60329329\n",
      "  0.3787227  0.93939209 0.46740626 0.7502511  0.        ]\n",
      " [1.         0.97479786 0.96892717 1.         0.75256591 0.63188104\n",
      "  0.45594239 0.26897911 0.77558479 0.55596637 0.        ]\n",
      " [0.         1.         1.         0.98699727 1.         0.73968298\n",
      "  0.59352812 0.27706623 0.30476095 0.41999886 0.        ]\n",
      " [3.         0.59213735 0.43550731 0.472834   0.91848626 0.42173643\n",
      "  0.02438777 0.         0.56905565 0.88216304 0.58032257]\n",
      " [1.         0.11119021 0.20739121 0.24935375 0.75065831 0.57708904\n",
      "  0.25867717 0.70452158 0.2740828  0.4459483  0.        ]\n",
      " [3.         0.57973547 0.61692676 0.61614631 0.91214714 0.50819118\n",
      "  0.73339168 0.44146251 1.         0.40190234 0.72656679]\n",
      " [0.         0.25030891 0.26624806 0.21753467 0.95483462 0.29193326\n",
      "  0.10173071 0.46767742 0.51792622 0.55561176 0.        ]\n",
      " [1.         1.         0.99614312 1.         0.81852735 0.53382291\n",
      "  0.5512697  0.64898466 0.68537777 0.84065874 0.        ]\n",
      " [3.         0.1858639  0.27417461 0.26472975 0.83958926 0.30113599\n",
      "  0.60563882 0.39943688 0.67901811 1.         0.46312574]\n",
      " [0.         0.23854503 0.19813664 0.28419302 0.74469729 0.54291541\n",
      "  0.02452864 0.24421795 0.39693203 0.57723357 0.        ]\n",
      " [0.         0.         0.         0.         0.         0.\n",
      "  0.         0.         0.         0.         0.        ]]\n"
     ]
    }
   ],
   "source": [
    "print(encoded)"
   ]
  },
  {
   "cell_type": "code",
   "execution_count": 59,
   "metadata": {},
   "outputs": [
    {
     "name": "stdout",
     "output_type": "stream",
     "text": [
      "decompressed in 2.7533297538757324 sec\n"
     ]
    },
    {
     "data": {
      "image/png": "[encoded data removed]",
      "text/plain": [
       "<Figure size 432x288 with 1 Axes>"
      ]
     },
     "metadata": {},
     "output_type": "display_data"
    }
   ],
   "source": [
    "decoder.decode(encoded, size=100)"
   ]
  },
  {
   "cell_type": "code",
   "execution_count": null,
   "metadata": {
    "collapsed": true
   },
   "outputs": [],
   "source": []
  }
 ],
 "metadata": {
  "kernelspec": {
   "display_name": "Python 3",
   "language": "python",
   "name": "python3"
  },
  "language_info": {
   "codemirror_mode": {
    "name": "ipython",
    "version": 3
   },
   "file_extension": ".py",
   "mimetype": "text/x-python",
   "name": "python",
   "nbconvert_exporter": "python",
   "pygments_lexer": "ipython3",
   "version": "3.6.4"
  }
 },
 "nbformat": 4,
 "nbformat_minor": 2
}
