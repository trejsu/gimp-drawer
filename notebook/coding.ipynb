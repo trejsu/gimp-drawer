{
 "cells": [
  {
   "cell_type": "code",
   "execution_count": null,
   "metadata": {
    "collapsed": true
   },
   "outputs": [],
   "source": [
    "from src.\n",
    "\n",
    "class Encoder(object):\n",
    "    def __init__(self):\n",
    "        self.shape_predictor = \n",
    "        self.representation_predictor = \n",
    "    \n",
    "    def encode(img):\n",
    "        action = \n",
    "        args = None\n",
    "        return action, args"
   ]
  }
 ],
 "metadata": {
  "kernelspec": {
   "display_name": "Python 3",
   "language": "python",
   "name": "python3"
  },
  "language_info": {
   "codemirror_mode": {
    "name": "ipython",
    "version": 3
   },
   "file_extension": ".py",
   "mimetype": "text/x-python",
   "name": "python",
   "nbconvert_exporter": "python",
   "pygments_lexer": "ipython3",
   "version": "3.6.4"
  }
 },
 "nbformat": 4,
 "nbformat_minor": 2
}
