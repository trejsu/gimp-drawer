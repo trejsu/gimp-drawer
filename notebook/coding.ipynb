{
 "cells": [
  {
   "cell_type": "code",
   "execution_count": 2,
   "metadata": {
    "collapsed": true
   },
   "outputs": [],
   "source": [
    "from keras.models import load_model\n",
    "import numpy as np\n",
    "%matplotlib inline\n",
    "import matplotlib.pylab as plt\n",
    "from scipy import misc\n",
    "import math\n",
    "from tqdm import tqdm\n",
    "from src.gimp.draw.draw_triangle import draw_triangle as _draw_triangle\n",
    "from src.gimp.draw.draw_line import draw_line as _draw_line\n",
    "import os\n",
    "\n",
    "PREDICTOR = \n",
    "RECTANGLE = \n",
    "ELLIPSE =\n",
    "LINE = \n",
    "TRIANGLE = \n",
    "\n",
    "class Encoder(object):\n",
    "    def __init__(self):\n",
    "        self.shape_predictor = load_model('../result/model/shape_small/{}.hdf5'.format(PREDICTOR))\n",
    "        self.representation_predictors = [\n",
    "            load_model('../result/model/rectangle_small/{}.hdf5'.format(RECTANGLE)),\n",
    "            load_model('../result/model/ellipse_small/{}.hdf5'.format(ELLIPSE)),\n",
    "            load_model('../result/model/line_small/{}.hdf5'.format(LINE)),\n",
    "            load_model('../result/model/triangle_small/{}.hdf5'.format(TRIANGLE))\n",
    "        ]\n",
    "    \n",
    "    def encode(self, img):\n",
    "        shape_prediction = self.shape_predictor.predict(img)\n",
    "        args = self.representation_predictors[action].generate_args(img)\n",
    "        return action, args\n",
    "    \n",
    "    \n",
    "class Decoder(object):\n",
    "    def __init__(self):\n",
    "        pass\n",
    "    \n",
    "    def decode(self, encoded, size=100):\n",
    "        def sigmoid(x):\n",
    "            return 1/(1+np.exp(-x))\n",
    "        \n",
    "        action, args = encoded\n",
    "        args = sigmoid(args)\n",
    "        if action == 0:\n",
    "            self.draw_ellipse(args, size)\n",
    "        elif action == 1:\n",
    "            self.draw_rectangle(args, size)\n",
    "        elif action == 2:\n",
    "            self.draw_line(args, size)\n",
    "        else:\n",
    "            self.draw_triangle(args, size)\n",
    "            \n",
    "    def draw(self, y_, shape, size):\n",
    "        path_to_image_results = '../result/gimp_images/nn/shapes'\n",
    "        name = 'jupyter_test.png'\n",
    "        os.system('python ../src/gimp/draw/draw_selection_shape.py --name {} --shape {} --size {} --r {} --g {} --b {} --a {} --x {} --y {} --w {} --h {} --rotation {}'\\\n",
    "                  .format(name, shape, size, y_[0], y_[1], y_[2], y_[3], y_[4], y_[5], y_[6], y_[7], y_[8]))\n",
    "        image_data = plt.imread('%s/%s' % (path_to_image_results, name))[:,:,:3]\n",
    "        plt.imshow(image_data)\n",
    "\n",
    "    def draw_rectangle(self, y, size):\n",
    "        self.draw(y, 'rectangle', size)\n",
    "\n",
    "    def draw_ellipse(self, y, size):\n",
    "        self.draw(y, 'ellipse', size)\n",
    "\n",
    "    def draw_triangle(self, y, size):\n",
    "        path_to_image_results = '../result/gimp_images/nn/shapes'\n",
    "        name = 'jupyter_test.png'\n",
    "        _draw_triangle(name, size, y[0], y[1], y[2], y[3], y[4], y[5], y[6], y[7], y[8], y[9])\n",
    "        image_data = plt.imread('%s/%s' % (path_to_image_results, name))[:,:,:3]\n",
    "        plt.imshow(image_data)\n",
    "\n",
    "    def draw_line(self, y, size):\n",
    "        path_to_image_results = '../result/gimp_images/nn/shapes'\n",
    "        name = 'jupyter_test.png'\n",
    "        _draw_line(name, size, y[0], y[1], y[2], y[3], y[4], y[5], y[6], y[7], y[8])\n",
    "        image_data = plt.imread('%s/%s' % (path_to_image_results, name))[:,:,:3]\n",
    "        plt.imshow(image_data)\n",
    "            \n",
    "    \n",
    "    \n",
    "def load_data(name):\n",
    "    path = \"../data/dataset/random_shape_classification/\"\n",
    "    X = np.load(path + \"%s_X_1.npy\" % name, mmap_mode=\"r\")\n",
    "    Y = np.load(path + \"%s_Y_1.npy\" % name, mmap_mode=\"r\")\n",
    "    return X, Y\n",
    "\n",
    "def show_source(i):\n",
    "    plt.imshow(np.ones(X[i].shape) + X[i])"
   ]
  },
  {
   "cell_type": "code",
   "execution_count": 3,
   "metadata": {},
   "outputs": [
    {
     "name": "stdout",
     "output_type": "stream",
     "text": [
      "INFO:tensorflow:Restoring parameters from ../result/model/classifier_filter_10/classifier_filter_10-56\n",
      "INFO:tensorflow:Restoring parameters from ../result/model/ellipse/ellipse-8\n",
      "INFO:tensorflow:Restoring parameters from ../result/model/rectangle/rectangle-23\n",
      "INFO:tensorflow:Restoring parameters from ../result/model/line/line-6\n",
      "INFO:tensorflow:Restoring parameters from ../result/model/triangle/triangle-8\n"
     ]
    }
   ],
   "source": [
    "encoder = Encoder()\n",
    "decoder = Decoder()"
   ]
  },
  {
   "cell_type": "code",
   "execution_count": 242,
   "metadata": {
    "collapsed": true
   },
   "outputs": [],
   "source": [
    "X, _ = load_data('test')"
   ]
  },
  {
   "cell_type": "code",
   "execution_count": 252,
   "metadata": {},
   "outputs": [
    {
     "data": {
      "image/png": "[encoded data removed]",
      "text/plain": [
       "<Figure size 432x288 with 1 Axes>"
      ]
     },
     "metadata": {},
     "output_type": "display_data"
    }
   ],
   "source": [
    "index = np.random.randint(0, X.shape[0])\n",
    "show_source(index)"
   ]
  },
  {
   "cell_type": "code",
   "execution_count": 253,
   "metadata": {},
   "outputs": [
    {
     "name": "stdout",
     "output_type": "stream",
     "text": [
      "(3, array([ 0.5573004 ,  0.9105373 , -1.6503483 , -0.20210256,  0.29212368,\n",
      "       -1.5274953 , -0.00637537, -1.0534285 , -0.42002496, -1.2054826 ],\n",
      "      dtype=float32))\n"
     ]
    }
   ],
   "source": [
    "encoded = encoder.encode(X[index])\n",
    "print(encoded)"
   ]
  },
  {
   "cell_type": "code",
   "execution_count": 254,
   "metadata": {},
   "outputs": [
    {
     "data": {
      "image/png": "[encoded data removed]",
      "text/plain": [
       "<Figure size 432x288 with 1 Axes>"
      ]
     },
     "metadata": {},
     "output_type": "display_data"
    }
   ],
   "source": [
    "decoder.decode(encoded, size=100)"
   ]
  }
 ],
 "metadata": {
  "kernelspec": {
   "display_name": "Python 3",
   "language": "python",
   "name": "python3"
  },
  "language_info": {
   "codemirror_mode": {
    "name": "ipython",
    "version": 3
   },
   "file_extension": ".py",
   "mimetype": "text/x-python",
   "name": "python",
   "nbconvert_exporter": "python",
   "pygments_lexer": "ipython3",
   "version": "3.6.4"
  }
 },
 "nbformat": 4,
 "nbformat_minor": 2
}
