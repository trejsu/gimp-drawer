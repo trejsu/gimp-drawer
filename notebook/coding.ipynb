{
 "cells": [
  {
   "cell_type": "code",
   "execution_count": 82,
   "metadata": {},
   "outputs": [],
   "source": [
    "from src.nn.cnn.model.conv_network import ConvNetwork\n",
    "import numpy as np\n",
    "%matplotlib inline\n",
    "import matplotlib.pylab as plt\n",
    "from scipy import misc\n",
    "import math\n",
    "from tqdm import tqdm\n",
    "from src.gimp.draw.draw_triangle import draw_triangle as _draw_triangle\n",
    "from src.gimp.draw.draw_line import draw_line as _draw_line\n",
    "import os\n",
    "\n",
    "class Encoder(object):\n",
    "    def __init__(self):\n",
    "        self.shape_predictor = ConvNetwork('../result/model/classifier/classifier-43')\n",
    "        self.representation_predictors = [\n",
    "            ConvNetwork('../result/model/ellipse/ellipse-14'),\n",
    "            ConvNetwork('../result/model/rectangle/rectangle-75'),\n",
    "            ConvNetwork('../result/model/line/line-13'),\n",
    "            ConvNetwork('../result/model/triangle/triangle-11')\n",
    "        ]\n",
    "    \n",
    "    def encode(self, img):\n",
    "        action = np.argmax(self.shape_predictor.generate_args(img))\n",
    "        args = self.representation_predictors[action].generate_args(img)\n",
    "        return action, args\n",
    "    \n",
    "    \n",
    "def load_data(name):\n",
    "    path = \"../data/dataset/random_shape_classification/\"\n",
    "    X = np.load(path + \"%s_X_1.npy\" % name, mmap_mode=\"r\")\n",
    "    Y = np.load(path + \"%s_Y_1.npy\" % name, mmap_mode=\"r\")\n",
    "    return X, Y\n",
    "\n",
    "def show_source(i):\n",
    "    plt.imshow(np.ones(X[i].shape) + X[i])\n",
    "\n",
    "def draw(y_, shape):\n",
    "    path_to_image_results = '../result/gimp_images/nn/shapes'\n",
    "    name = 'jupyter_test.png'\n",
    "    os.system('python ../src/gimp/draw/draw_selection_shape.py --name {} --shape {} --size {} --r {} --g {} --b {} --a {} --x {} --y {} --w {} --h {} --rotation {}'\\\n",
    "              .format(name, shape, 100, y_[0], y_[1], y_[2], y_[3], y_[4], y_[5], y_[6], y_[7], y_[8]))\n",
    "    image_data = plt.imread('%s/%s' % (path_to_image_results, name))[:,:,:3]\n",
    "    plt.imshow(image_data)\n",
    "    \n",
    "def draw_rectangle(y):\n",
    "    draw(y, 'rectangle')\n",
    "    \n",
    "def draw_ellipse(y):\n",
    "    draw(y, 'ellipse')\n",
    "    \n",
    "def draw_triangle(y):\n",
    "    path_to_image_results = '../result/gimp_images/nn/shapes'\n",
    "    name = 'jupyter_test.png'\n",
    "    _draw_triangle(name, 100, y[0], y[1], y[2], y[3], y[4], y[5], y[6], y[7], y[8], y[9])\n",
    "    image_data = plt.imread('%s/%s' % (path_to_image_results, name))[:,:,:3]\n",
    "    plt.imshow(image_data)\n",
    "    \n",
    "def draw_line(y):\n",
    "    path_to_image_results = '../result/gimp_images/nn/shapes'\n",
    "    name = 'jupyter_test.png'\n",
    "    _draw_line(name, 100, y[0], y[1], y[2], y[3], y[4], y[5], y[6], y[7], y[8])\n",
    "    image_data = plt.imread('%s/%s' % (path_to_image_results, name))[:,:,:3]\n",
    "    plt.imshow(image_data)"
   ]
  },
  {
   "cell_type": "code",
   "execution_count": 83,
   "metadata": {},
   "outputs": [
    {
     "name": "stdout",
     "output_type": "stream",
     "text": [
      "INFO:tensorflow:Restoring parameters from ../result/model/classifier/classifier-43\n",
      "INFO:tensorflow:Restoring parameters from ../result/model/ellipse/ellipse-14\n",
      "INFO:tensorflow:Restoring parameters from ../result/model/rectangle/rectangle-75\n",
      "INFO:tensorflow:Restoring parameters from ../result/model/line/line-13\n",
      "INFO:tensorflow:Restoring parameters from ../result/model/triangle/triangle-11\n"
     ]
    }
   ],
   "source": [
    "encoder = Encoder()"
   ]
  },
  {
   "cell_type": "code",
   "execution_count": 84,
   "metadata": {},
   "outputs": [],
   "source": [
    "X, _ = load_data('train')"
   ]
  },
  {
   "cell_type": "code",
   "execution_count": 85,
   "metadata": {},
   "outputs": [
    {
     "data": {
      "image/png": "[encoded data removed]",
      "text/plain": [
       "<Figure size 432x288 with 1 Axes>"
      ]
     },
     "metadata": {},
     "output_type": "display_data"
    }
   ],
   "source": [
    "index = np.random.randint(0, X.shape[0])\n",
    "show_source(index)"
   ]
  },
  {
   "cell_type": "code",
   "execution_count": 86,
   "metadata": {},
   "outputs": [
    {
     "name": "stdout",
     "output_type": "stream",
     "text": [
      "(0, array([-1.4459214 ,  0.3049408 , -1.6433777 ,  1.9475746 , -0.34131545,\n",
      "       -0.3742676 , -0.40877187, -0.07963745, -0.31908175], dtype=float32))\n"
     ]
    }
   ],
   "source": [
    "print(encoder.encode(X[index]))"
   ]
  },
  {
   "cell_type": "code",
   "execution_count": null,
   "metadata": {},
   "outputs": [],
   "source": []
  }
 ],
 "metadata": {
  "kernelspec": {
   "display_name": "Python 3",
   "language": "python",
   "name": "python3"
  },
  "language_info": {
   "codemirror_mode": {
    "name": "ipython",
    "version": 3
   },
   "file_extension": ".py",
   "mimetype": "text/x-python",
   "name": "python",
   "nbconvert_exporter": "python",
   "pygments_lexer": "ipython3",
   "version": "3.6.5"
  }
 },
 "nbformat": 4,
 "nbformat_minor": 2
}
