{
 "cells": [
  {
   "cell_type": "code",
   "execution_count": 122,
   "metadata": {},
   "outputs": [],
   "source": [
    "from src.nn.cnn.model.conv_network import ConvNetwork\n",
    "import numpy as np\n",
    "%matplotlib inline\n",
    "import matplotlib.pylab as plt\n",
    "from scipy import misc\n",
    "import math\n",
    "from tqdm import tqdm\n",
    "from src.gimp.draw.draw_triangle import draw_triangle as _draw_triangle\n",
    "from src.gimp.draw.draw_line import draw_line as _draw_line\n",
    "import os\n",
    "\n",
    "class Encoder(object):\n",
    "    def __init__(self):\n",
    "        self.shape_predictor = ConvNetwork('../result/model/classifier/classifier-43')\n",
    "        self.representation_predictors = [\n",
    "            ConvNetwork('../result/model/ellipse/ellipse-8'),\n",
    "            ConvNetwork('../result/model/rectangle/rectangle-23'),\n",
    "            ConvNetwork('../result/model/line/line-6'),\n",
    "            ConvNetwork('../result/model/triangle/triangle-8')\n",
    "        ]\n",
    "    \n",
    "    def encode(self, img):\n",
    "        action = np.argmax(self.shape_predictor.generate_args(img))\n",
    "        args = self.representation_predictors[action].generate_args(img)\n",
    "        return action, args\n",
    "    \n",
    "    \n",
    "class Decoder(object):\n",
    "    def __init__(self):\n",
    "        pass\n",
    "    \n",
    "    def decode(self, encoded, size=100):\n",
    "        def sigmoid(x):\n",
    "            return 1/(1+np.exp(-x))\n",
    "        \n",
    "        action, args = encoded\n",
    "        args = sigmoid(args)\n",
    "        if action == 0:\n",
    "            self.draw_ellipse(args, size)\n",
    "        elif action == 1:\n",
    "            self.draw_rectangle(args, size)\n",
    "        elif action == 2:\n",
    "            self.draw_line(args, size)\n",
    "        else:\n",
    "            self.draw_triangle(args, size)\n",
    "            \n",
    "    def draw(self, y_, shape, size):\n",
    "        path_to_image_results = '../result/gimp_images/nn/shapes'\n",
    "        name = 'jupyter_test.png'\n",
    "        os.system('python ../src/gimp/draw/draw_selection_shape.py --name {} --shape {} --size {} --r {} --g {} --b {} --a {} --x {} --y {} --w {} --h {} --rotation {}'\\\n",
    "                  .format(name, shape, size, y_[0], y_[1], y_[2], y_[3], y_[4], y_[5], y_[6], y_[7], y_[8]))\n",
    "        image_data = plt.imread('%s/%s' % (path_to_image_results, name))[:,:,:3]\n",
    "        plt.imshow(image_data)\n",
    "\n",
    "    def draw_rectangle(self, y, size):\n",
    "        self.draw(y, 'rectangle', size)\n",
    "\n",
    "    def draw_ellipse(self, y, size):\n",
    "        self.draw(y, 'ellipse', size)\n",
    "\n",
    "    def draw_triangle(self, y, size):\n",
    "        path_to_image_results = '../result/gimp_images/nn/shapes'\n",
    "        name = 'jupyter_test.png'\n",
    "        _draw_triangle(name, size, y[0], y[1], y[2], y[3], y[4], y[5], y[6], y[7], y[8], y[9])\n",
    "        image_data = plt.imread('%s/%s' % (path_to_image_results, name))[:,:,:3]\n",
    "        plt.imshow(image_data)\n",
    "\n",
    "    def draw_line(self, y, size):\n",
    "        path_to_image_results = '../result/gimp_images/nn/shapes'\n",
    "        name = 'jupyter_test.png'\n",
    "        _draw_line(name, size, y[0], y[1], y[2], y[3], y[4], y[5], y[6], y[7], y[8])\n",
    "        image_data = plt.imread('%s/%s' % (path_to_image_results, name))[:,:,:3]\n",
    "        plt.imshow(image_data)\n",
    "            \n",
    "    \n",
    "    \n",
    "def load_data(name):\n",
    "    path = \"../data/dataset/random_shape_classification/\"\n",
    "    X = np.load(path + \"%s_X_1.npy\" % name, mmap_mode=\"r\")\n",
    "    Y = np.load(path + \"%s_Y_1.npy\" % name, mmap_mode=\"r\")\n",
    "    return X, Y\n",
    "\n",
    "def show_source(i):\n",
    "    plt.imshow(np.ones(X[i].shape) + X[i])"
   ]
  },
  {
   "cell_type": "code",
   "execution_count": 123,
   "metadata": {},
   "outputs": [
    {
     "name": "stdout",
     "output_type": "stream",
     "text": [
      "INFO:tensorflow:Restoring parameters from ../result/model/classifier/classifier-43\n",
      "INFO:tensorflow:Restoring parameters from ../result/model/ellipse/ellipse-8\n",
      "INFO:tensorflow:Restoring parameters from ../result/model/rectangle/rectangle-23\n",
      "INFO:tensorflow:Restoring parameters from ../result/model/line/line-6\n",
      "INFO:tensorflow:Restoring parameters from ../result/model/triangle/triangle-8\n"
     ]
    }
   ],
   "source": [
    "encoder = Encoder()\n",
    "decoder = Decoder()"
   ]
  },
  {
   "cell_type": "code",
   "execution_count": 152,
   "metadata": {
    "collapsed": true
   },
   "outputs": [],
   "source": [
    "X, _ = load_data('test')"
   ]
  },
  {
   "cell_type": "code",
   "execution_count": 153,
   "metadata": {},
   "outputs": [
    {
     "data": {
      "image/png": "[encoded data removed]",
      "text/plain": [
       "<Figure size 432x288 with 1 Axes>"
      ]
     },
     "metadata": {},
     "output_type": "display_data"
    }
   ],
   "source": [
    "index = np.random.randint(0, X.shape[0])\n",
    "show_source(index)"
   ]
  },
  {
   "cell_type": "code",
   "execution_count": 154,
   "metadata": {},
   "outputs": [
    {
     "name": "stdout",
     "output_type": "stream",
     "text": [
      "(0, array([-0.07297273, -1.1042023 , -0.08272161,  0.8761895 , -0.40991384,\n",
      "       -0.06669443, -0.33017713,  0.04577467, -0.5448908 ], dtype=float32))\n"
     ]
    }
   ],
   "source": [
    "encoded = encoder.encode(X[index])\n",
    "print(encoded)"
   ]
  },
  {
   "cell_type": "code",
   "execution_count": 156,
   "metadata": {},
   "outputs": [
    {
     "data": {
      "image/png": "[encoded data removed]",
      "text/plain": [
       "<Figure size 432x288 with 1 Axes>"
      ]
     },
     "metadata": {},
     "output_type": "display_data"
    }
   ],
   "source": [
    "decoder.decode(encoded, size=3000)"
   ]
  },
  {
   "cell_type": "code",
   "execution_count": null,
   "metadata": {
    "collapsed": true
   },
   "outputs": [],
   "source": []
  }
 ],
 "metadata": {
  "kernelspec": {
   "display_name": "Python 3",
   "language": "python",
   "name": "python3"
  },
  "language_info": {
   "codemirror_mode": {
    "name": "ipython",
    "version": 3
   },
   "file_extension": ".py",
   "mimetype": "text/x-python",
   "name": "python",
   "nbconvert_exporter": "python",
   "pygments_lexer": "ipython3",
   "version": "3.6.4"
  }
 },
 "nbformat": 4,
 "nbformat_minor": 2
}
