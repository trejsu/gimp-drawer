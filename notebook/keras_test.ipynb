{
 "cells": [
  {
   "cell_type": "code",
   "execution_count": 2,
   "metadata": {},
   "outputs": [
    {
     "name": "stderr",
     "output_type": "stream",
     "text": [
      "/Users/mchrusci/miniconda3/lib/python3.6/site-packages/h5py/__init__.py:36: FutureWarning: Conversion of the second argument of issubdtype from `float` to `np.floating` is deprecated. In future, it will be treated as `np.float64 == np.dtype(float).type`.\n",
      "  from ._conv import register_converters as _register_converters\n",
      "Using TensorFlow backend.\n"
     ]
    }
   ],
   "source": [
    "from keras.models import load_model\n",
    "import numpy as np\n",
    "%matplotlib inline\n",
    "import matplotlib.pylab as plt\n",
    "from scipy import misc\n",
    "import math\n",
    "from tqdm import tqdm\n",
    "import os"
   ]
  },
  {
   "cell_type": "code",
   "execution_count": 3,
   "metadata": {},
   "outputs": [],
   "source": [
    "def show_source(i):\n",
    "    plt.imshow(np.ones(X[i].shape) + X[i])"
   ]
  },
  {
   "cell_type": "code",
   "execution_count": 4,
   "metadata": {},
   "outputs": [],
   "source": [
    "from src.gimp.draw.draw_triangle import draw_triangle as _draw_triangle\n",
    "from src.gimp.draw.draw_line import draw_line as _draw_line\n",
    "import os\n",
    "\n",
    "def draw(y_, shape):\n",
    "    path_to_image_results = '../result/gimp_images/nn/shapes'\n",
    "    name = 'jupyter_test.png'\n",
    "    os.system('python ../src/gimp/draw/draw_selection_shape.py --name {} --shape {} --size {} --r {} --g {} --b {} --a {} --x {} --y {} --w {} --h {} --rotation {}'\\\n",
    "              .format(name, shape, 100, y_[0], y_[1], y_[2], y_[3], y_[4], y_[5], y_[6], y_[7], y_[8]))\n",
    "    image_data = plt.imread('%s/%s' % (path_to_image_results, name))[:,:,:3]\n",
    "    plt.imshow(image_data)\n",
    "    \n",
    "def draw_rectangle(y):\n",
    "    draw(y, 'rectangle')\n",
    "    \n",
    "def draw_ellipse(y):\n",
    "    draw(y, 'ellipse')\n",
    "    \n",
    "def draw_triangle(y):\n",
    "    path_to_image_results = '../result/gimp_images/nn/shapes'\n",
    "    name = 'jupyter_test.png'\n",
    "    _draw_triangle(name, 100, y[0], y[1], y[2], y[3], y[4], y[5], y[6], y[7], y[8], y[9])\n",
    "    image_data = plt.imread('%s/%s' % (path_to_image_results, name))[:,:,:3]\n",
    "    plt.imshow(image_data)\n",
    "    \n",
    "def draw_line(y):\n",
    "    path_to_image_results = '../result/gimp_images/nn/shapes'\n",
    "    name = 'jupyter_test.png'\n",
    "    _draw_line(name, 100, y[0], y[1], y[2], y[3], y[4], y[5], y[6], y[7], y[8])\n",
    "    image_data = plt.imread('%s/%s' % (path_to_image_results, name))[:,:,:3]\n",
    "    plt.imshow(image_data)"
   ]
  },
  {
   "cell_type": "code",
   "execution_count": 5,
   "metadata": {},
   "outputs": [],
   "source": [
    "model = load_model('../result/model/test/model.02-0.03.hdf5')"
   ]
  },
  {
   "cell_type": "code",
   "execution_count": 6,
   "metadata": {},
   "outputs": [],
   "source": [
    "path = \"../data/dataset/rectangle_small/\"\n",
    "name = \"test\"\n",
    "X = np.load(path + \"%s_X.npy\" % name, mmap_mode=\"r\")\n",
    "Y = np.load(path + \"%s_Y.npy\" % name, mmap_mode=\"r\")"
   ]
  },
  {
   "cell_type": "code",
   "execution_count": 24,
   "metadata": {},
   "outputs": [
    {
     "data": {
      "image/png": "[encoded data removed]",
      "text/plain": [
       "<Figure size 432x288 with 1 Axes>"
      ]
     },
     "metadata": {},
     "output_type": "display_data"
    }
   ],
   "source": [
    "index = np.random.randint(0, X.shape[0])\n",
    "show_source(index)"
   ]
  },
  {
   "cell_type": "code",
   "execution_count": 25,
   "metadata": {},
   "outputs": [
    {
     "name": "stdout",
     "output_type": "stream",
     "text": [
      "[[0.31947023 0.92844784 0.26124987 0.56719047 0.10444695 0.1198686\n",
      "  0.73700774 0.6338699  0.5586614 ]]\n"
     ]
    }
   ],
   "source": [
    "y = model.predict(X[index].reshape([1, 28, 28, 3]))\n",
    "print(y)\n",
    "# draw_rectangle(y[0])"
   ]
  },
  {
   "cell_type": "code",
   "execution_count": null,
   "metadata": {
    "collapsed": true
   },
   "outputs": [],
   "source": []
  }
 ],
 "metadata": {
  "kernelspec": {
   "display_name": "Python 3",
   "language": "python",
   "name": "python3"
  },
  "language_info": {
   "codemirror_mode": {
    "name": "ipython",
    "version": 3
   },
   "file_extension": ".py",
   "mimetype": "text/x-python",
   "name": "python",
   "nbconvert_exporter": "python",
   "pygments_lexer": "ipython3",
   "version": "3.6.5"
  }
 },
 "nbformat": 4,
 "nbformat_minor": 2
}
