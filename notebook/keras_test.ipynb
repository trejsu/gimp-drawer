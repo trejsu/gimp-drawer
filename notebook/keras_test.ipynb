{
 "cells": [
  {
   "cell_type": "code",
   "execution_count": 1,
   "metadata": {},
   "outputs": [
    {
     "name": "stderr",
     "output_type": "stream",
     "text": [
      "Using TensorFlow backend.\n"
     ]
    }
   ],
   "source": [
    "from keras.models import load_model\n",
    "import numpy as np\n",
    "%matplotlib inline\n",
    "import matplotlib.pylab as plt\n",
    "from scipy import misc\n",
    "import math\n",
    "from tqdm import tqdm\n",
    "import os"
   ]
  },
  {
   "cell_type": "code",
   "execution_count": 2,
   "metadata": {
    "collapsed": true
   },
   "outputs": [],
   "source": [
    "def show_source(i):\n",
    "    plt.imshow(np.ones(X[i].shape) + X[i])"
   ]
  },
  {
   "cell_type": "code",
   "execution_count": 67,
   "metadata": {
    "collapsed": true
   },
   "outputs": [],
   "source": [
    "from src.gimp.draw.draw_triangle import draw_triangle as _draw_triangle\n",
    "from src.gimp.draw.draw_line import draw_line as _draw_line\n",
    "import os\n",
    "\n",
    "def draw(y_, shape, size):\n",
    "    path_to_image_results = '../result/gimp_images/nn/shapes'\n",
    "    name = 'jupyter_test.png'\n",
    "    os.system('python ../src/gimp/draw/draw_selection_shape.py --name {} --shape {} --size {} --r {} --g {} --b {} --a {} --x {} --y {} --w {} --h {} --rotation {}'\\\n",
    "              .format(name, shape, size, y_[0], y_[1], y_[2], y_[3], y_[4], y_[5], y_[6], y_[7], 0.5))\n",
    "    image_data = plt.imread('%s/%s' % (path_to_image_results, name))[:,:,:3]\n",
    "    plt.imshow(image_data)\n",
    "    \n",
    "def draw_rectangle(y, size=28):\n",
    "    draw(y, 'rectangle', size)\n",
    "    \n",
    "def draw_ellipse(y, size=28):\n",
    "    draw(y, 'ellipse', size)\n",
    "    \n",
    "def draw_triangle(y, size=28):\n",
    "    path_to_image_results = '../result/gimp_images/nn/shapes'\n",
    "    name = 'jupyter_test.png'\n",
    "    _draw_triangle(name, size, y[0], y[1], y[2], y[3], y[4], y[5], y[6], y[7], y[8], y[9])\n",
    "    image_data = plt.imread('%s/%s' % (path_to_image_results, name))[:,:,:3]\n",
    "    plt.imshow(image_data)\n",
    "    \n",
    "def draw_line(y, size=28):\n",
    "    path_to_image_results = '../result/gimp_images/nn/shapes'\n",
    "    name = 'jupyter_test.png'\n",
    "    _draw_line(name, size, y[0], y[1], y[2], y[3], y[4], y[5], y[6], y[7], y[8])\n",
    "    image_data = plt.imread('%s/%s' % (path_to_image_results, name))[:,:,:3]\n",
    "    plt.imshow(image_data)"
   ]
  },
  {
   "cell_type": "code",
   "execution_count": 68,
   "metadata": {},
   "outputs": [],
   "source": [
    "model = load_model('../result/model/rectangle_small_without_rotation/model.06-0.01.hdf5')"
   ]
  },
  {
   "cell_type": "code",
   "execution_count": 88,
   "metadata": {
    "collapsed": true
   },
   "outputs": [],
   "source": [
    "path = \"../data/dataset/rectangle_small_without_rotation/\"\n",
    "name = \"train\"\n",
    "X = np.load(path + \"%s_X.npy\" % name, mmap_mode=\"r\")\n",
    "Y = np.load(path + \"%s_Y.npy\" % name, mmap_mode=\"r\")"
   ]
  },
  {
   "cell_type": "code",
   "execution_count": 93,
   "metadata": {},
   "outputs": [
    {
     "data": {
      "image/png": "[encoded data removed]",
      "text/plain": [
       "<Figure size 432x288 with 1 Axes>"
      ]
     },
     "metadata": {},
     "output_type": "display_data"
    }
   ],
   "source": [
    "index = np.random.randint(0, X.shape[0])\n",
    "show_source(index)"
   ]
  },
  {
   "cell_type": "code",
   "execution_count": 94,
   "metadata": {},
   "outputs": [
    {
     "name": "stdout",
     "output_type": "stream",
     "text": [
      "[0.3362662  0.74001634 0.3219414  0.597045   0.6571842  0.08389537\n",
      " 0.22304395 0.09328511 0.50293005]\n"
     ]
    },
    {
     "data": {
      "image/png": "[encoded data removed]",
      "text/plain": [
       "<Figure size 432x288 with 1 Axes>"
      ]
     },
     "metadata": {},
     "output_type": "display_data"
    }
   ],
   "source": [
    "y = model.predict(X[index].reshape([1, 28, 28, 3]))\n",
    "print(y[0])\n",
    "draw_rectangle(y[0], size=28)"
   ]
  },
  {
   "cell_type": "code",
   "execution_count": null,
   "metadata": {
    "collapsed": true
   },
   "outputs": [],
   "source": []
  }
 ],
 "metadata": {
  "kernelspec": {
   "display_name": "Python 3",
   "language": "python",
   "name": "python3"
  },
  "language_info": {
   "codemirror_mode": {
    "name": "ipython",
    "version": 3
   },
   "file_extension": ".py",
   "mimetype": "text/x-python",
   "name": "python",
   "nbconvert_exporter": "python",
   "pygments_lexer": "ipython3",
   "version": "3.6.4"
  }
 },
 "nbformat": 4,
 "nbformat_minor": 2
}
